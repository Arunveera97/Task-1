{
  "nbformat": 4,
  "nbformat_minor": 0,
  "metadata": {
    "colab": {
      "name": "Task-1/Arun veera.ipynb",
      "provenance": [],
      "authorship_tag": "ABX9TyOEabSdNvNqJNClNGRu41ah",
      "include_colab_link": true
    },
    "kernelspec": {
      "name": "python3",
      "display_name": "Python 3"
    },
    "language_info": {
      "name": "python"
    }
  },
  "cells": [
    {
      "cell_type": "markdown",
      "metadata": {
        "id": "view-in-github",
        "colab_type": "text"
      },
      "source": [
        "<a href=\"https://colab.research.google.com/github/Arunveera97/Task-1/blob/main/Task_1_Arun_veera.ipynb\" target=\"_parent\"><img src=\"https://colab.research.google.com/assets/colab-badge.svg\" alt=\"Open In Colab\"/></a>"
      ]
    },
    {
      "cell_type": "code",
      "execution_count": 1,
      "metadata": {
        "id": "4PevjYGJ5uEL"
      },
      "outputs": [],
      "source": [
        "import csv\n",
        "mydict = [{\"username\":\"dummy\",\"password\":\"dummy\"}]\n",
        "field=[\"username\", \"password\"]\n",
        "filename= \"registration.csv\"\n",
        "with open(filename,\"w\") as csvfile:\n",
        "  writer= csv.DictWriter(csvfile,fieldnames=field)\n",
        "  writer.writeheader()\n",
        "  writer.writerows(mydict)"
      ]
    },
    {
      "cell_type": "code",
      "source": [
        "import re\n",
        "User_name=input()\n",
        "#to check @/.\n",
        "user_ID= list(User_name)\n",
        "if user_ID.count(\"@\")==0 and user_ID.count(\".\")==0:\n",
        "  flage1= False\n",
        "else :\n",
        "  flage1= True  \n",
        "# to check condition -2\n",
        "if user_ID[0]==\"@\":\n",
        "  flage2= False\n",
        "else:\n",
        "  flage2 = True\n",
        "# to check cond - 3\n",
        "if user_ID.index(\"@\")<user_ID.index(\".\"):\n",
        "  flage3= True\n",
        "else:\n",
        "  flage3 = False\n",
        "# to check cond -4\n",
        "if user_ID.index(\".\")-user_ID.index(\"@\")==1:\n",
        "  flage4= False\n",
        "else:\n",
        "  flage4= True\n",
        "# to check cond - 5\n",
        "num = ['0','1','2','3','4','5','6','7','8','9']\n",
        "if user_ID[0] in num:\n",
        "  flage5= False\n",
        "else:\n",
        "  flage5= True\n",
        "\n",
        "regex = re.compile('[@_!#$%^&*()<>?/\\|}{~:]')\n",
        "if regex.search(user_ID[0])!= None:\n",
        "  flage6= False\n",
        "else:\n",
        "  flage6= True\n",
        "# to check the full user ID condition\n",
        "flageuserID= False\n",
        "if flage1==True and flage2==True and flage3==True and flage4==True and flage5==True and flage6==True:\n",
        "  flageuserID= True\n",
        "  \n",
        "else:\n",
        "  print(\"Enter Valid mail ID\")"
      ],
      "metadata": {
        "colab": {
          "base_uri": "https://localhost:8080/"
        },
        "id": "9SQGCaQw56rL",
        "outputId": "4bd8ba4f-273d-4405-906b-b5eb6172e453"
      },
      "execution_count": 6,
      "outputs": [
        {
          "name": "stdout",
          "output_type": "stream",
          "text": [
            "yaknesh@gmail.com\n"
          ]
        }
      ]
    },
    {
      "cell_type": "code",
      "source": [
        "#to check PW\n",
        "password= input()\n",
        "pw=list(password)\n",
        "if len(pw)<16 and len(pw)>5:\n",
        "  flagepw1= True\n",
        "else:\n",
        "  flagepw1= False\n",
        "\n",
        "for i in pw:\n",
        "  if regex.search(i) != None:\n",
        "    flagepw2=True\n",
        "    break\n",
        "  else:\n",
        "    flagepw2=False\n",
        "\n",
        "\n",
        "\n",
        "\n",
        "\n",
        "#to check digit\n",
        "for i in pw:\n",
        "  if i in num:\n",
        "    flagepw3= True\n",
        "    break\n",
        "  else:\n",
        "    flagepw3= False\n",
        "# to checl upper/lowecase\n",
        "\n",
        "for i in pw:\n",
        "  if i.isupper()== True:\n",
        "    flagepw4= True\n",
        "    break\n",
        "  else:\n",
        "    flagepw4= False\n",
        "for i in pw:\n",
        "  if i.islower()== True:\n",
        "    flagepw5= True\n",
        "    break\n",
        "  else:\n",
        "    flagepw5= False\n",
        "\n",
        "\n",
        "#to check password condition \n",
        "if flagepw1== True and flagepw2== True and flagepw3== True and flagepw4== True and flagepw5== True:\n",
        "  password_flag=True\n",
        "else:\n",
        "  password_flag=False\n",
        "  print('Enter valid password')"
      ],
      "metadata": {
        "colab": {
          "base_uri": "https://localhost:8080/"
        },
        "id": "Q0Dq5yXl6Eb2",
        "outputId": "5caec7d3-d94f-4d3b-9de9-3b2789eb97a3"
      },
      "execution_count": 7,
      "outputs": [
        {
          "name": "stdout",
          "output_type": "stream",
          "text": [
            "Yaknesh@97\n"
          ]
        }
      ]
    },
    {
      "cell_type": "code",
      "source": [
        "import pandas as pd\n",
        "df=pd.read_csv(\"/content/registration.csv\")\n",
        "df"
      ],
      "metadata": {
        "colab": {
          "base_uri": "https://localhost:8080/",
          "height": 81
        },
        "id": "Hyw_mtgu6Mh5",
        "outputId": "cfb16b44-c8ff-4c61-82ff-8b5db6b538a0"
      },
      "execution_count": 4,
      "outputs": [
        {
          "output_type": "execute_result",
          "data": {
            "text/plain": [
              "  username password\n",
              "0    dummy    dummy"
            ],
            "text/html": [
              "\n",
              "  <div id=\"df-01a07dbf-6dfd-4a52-acad-8c67d13ba015\">\n",
              "    <div class=\"colab-df-container\">\n",
              "      <div>\n",
              "<style scoped>\n",
              "    .dataframe tbody tr th:only-of-type {\n",
              "        vertical-align: middle;\n",
              "    }\n",
              "\n",
              "    .dataframe tbody tr th {\n",
              "        vertical-align: top;\n",
              "    }\n",
              "\n",
              "    .dataframe thead th {\n",
              "        text-align: right;\n",
              "    }\n",
              "</style>\n",
              "<table border=\"1\" class=\"dataframe\">\n",
              "  <thead>\n",
              "    <tr style=\"text-align: right;\">\n",
              "      <th></th>\n",
              "      <th>username</th>\n",
              "      <th>password</th>\n",
              "    </tr>\n",
              "  </thead>\n",
              "  <tbody>\n",
              "    <tr>\n",
              "      <th>0</th>\n",
              "      <td>dummy</td>\n",
              "      <td>dummy</td>\n",
              "    </tr>\n",
              "  </tbody>\n",
              "</table>\n",
              "</div>\n",
              "      <button class=\"colab-df-convert\" onclick=\"convertToInteractive('df-01a07dbf-6dfd-4a52-acad-8c67d13ba015')\"\n",
              "              title=\"Convert this dataframe to an interactive table.\"\n",
              "              style=\"display:none;\">\n",
              "        \n",
              "  <svg xmlns=\"http://www.w3.org/2000/svg\" height=\"24px\"viewBox=\"0 0 24 24\"\n",
              "       width=\"24px\">\n",
              "    <path d=\"M0 0h24v24H0V0z\" fill=\"none\"/>\n",
              "    <path d=\"M18.56 5.44l.94 2.06.94-2.06 2.06-.94-2.06-.94-.94-2.06-.94 2.06-2.06.94zm-11 1L8.5 8.5l.94-2.06 2.06-.94-2.06-.94L8.5 2.5l-.94 2.06-2.06.94zm10 10l.94 2.06.94-2.06 2.06-.94-2.06-.94-.94-2.06-.94 2.06-2.06.94z\"/><path d=\"M17.41 7.96l-1.37-1.37c-.4-.4-.92-.59-1.43-.59-.52 0-1.04.2-1.43.59L10.3 9.45l-7.72 7.72c-.78.78-.78 2.05 0 2.83L4 21.41c.39.39.9.59 1.41.59.51 0 1.02-.2 1.41-.59l7.78-7.78 2.81-2.81c.8-.78.8-2.07 0-2.86zM5.41 20L4 18.59l7.72-7.72 1.47 1.35L5.41 20z\"/>\n",
              "  </svg>\n",
              "      </button>\n",
              "      \n",
              "  <style>\n",
              "    .colab-df-container {\n",
              "      display:flex;\n",
              "      flex-wrap:wrap;\n",
              "      gap: 12px;\n",
              "    }\n",
              "\n",
              "    .colab-df-convert {\n",
              "      background-color: #E8F0FE;\n",
              "      border: none;\n",
              "      border-radius: 50%;\n",
              "      cursor: pointer;\n",
              "      display: none;\n",
              "      fill: #1967D2;\n",
              "      height: 32px;\n",
              "      padding: 0 0 0 0;\n",
              "      width: 32px;\n",
              "    }\n",
              "\n",
              "    .colab-df-convert:hover {\n",
              "      background-color: #E2EBFA;\n",
              "      box-shadow: 0px 1px 2px rgba(60, 64, 67, 0.3), 0px 1px 3px 1px rgba(60, 64, 67, 0.15);\n",
              "      fill: #174EA6;\n",
              "    }\n",
              "\n",
              "    [theme=dark] .colab-df-convert {\n",
              "      background-color: #3B4455;\n",
              "      fill: #D2E3FC;\n",
              "    }\n",
              "\n",
              "    [theme=dark] .colab-df-convert:hover {\n",
              "      background-color: #434B5C;\n",
              "      box-shadow: 0px 1px 3px 1px rgba(0, 0, 0, 0.15);\n",
              "      filter: drop-shadow(0px 1px 2px rgba(0, 0, 0, 0.3));\n",
              "      fill: #FFFFFF;\n",
              "    }\n",
              "  </style>\n",
              "\n",
              "      <script>\n",
              "        const buttonEl =\n",
              "          document.querySelector('#df-01a07dbf-6dfd-4a52-acad-8c67d13ba015 button.colab-df-convert');\n",
              "        buttonEl.style.display =\n",
              "          google.colab.kernel.accessAllowed ? 'block' : 'none';\n",
              "\n",
              "        async function convertToInteractive(key) {\n",
              "          const element = document.querySelector('#df-01a07dbf-6dfd-4a52-acad-8c67d13ba015');\n",
              "          const dataTable =\n",
              "            await google.colab.kernel.invokeFunction('convertToInteractive',\n",
              "                                                     [key], {});\n",
              "          if (!dataTable) return;\n",
              "\n",
              "          const docLinkHtml = 'Like what you see? Visit the ' +\n",
              "            '<a target=\"_blank\" href=https://colab.research.google.com/notebooks/data_table.ipynb>data table notebook</a>'\n",
              "            + ' to learn more about interactive tables.';\n",
              "          element.innerHTML = '';\n",
              "          dataTable['output_type'] = 'display_data';\n",
              "          await google.colab.output.renderOutput(dataTable, element);\n",
              "          const docLink = document.createElement('div');\n",
              "          docLink.innerHTML = docLinkHtml;\n",
              "          element.appendChild(docLink);\n",
              "        }\n",
              "      </script>\n",
              "    </div>\n",
              "  </div>\n",
              "  "
            ]
          },
          "metadata": {},
          "execution_count": 4
        }
      ]
    },
    {
      "cell_type": "code",
      "source": [
        "from csv import writer\n",
        "if flageuserID==True and password_flag==True:\n",
        "  List=[User_name,password]\n",
        "  with open('registration.csv',\"a\") as csvfile:\n",
        "    writer_object = writer(csvfile)\n",
        "    writer_object.writerow(List)\n",
        "    csvfile.close()"
      ],
      "metadata": {
        "id": "xdhO1Xsi6RPn"
      },
      "execution_count": 8,
      "outputs": []
    },
    {
      "cell_type": "code",
      "source": [
        ""
      ],
      "metadata": {
        "id": "CT7pWj_N6X9T"
      },
      "execution_count": null,
      "outputs": []
    },
    {
      "cell_type": "code",
      "source": [
        ""
      ],
      "metadata": {
        "id": "q4fx9FqL6p6T"
      },
      "execution_count": null,
      "outputs": []
    }
  ]
}